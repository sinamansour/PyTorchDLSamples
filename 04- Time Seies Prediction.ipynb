{
 "cells": [
  {
   "cell_type": "markdown",
   "metadata": {
    "colab_type": "text",
    "id": "2hSzcqgzluB8",
    "pycharm": {
     "name": "#%% md\n"
    }
   },
   "source": [
    "# Time Series Prediction"
   ]
  },
  {
   "cell_type": "markdown",
   "metadata": {
    "colab_type": "text",
    "id": "cQoJi3q_I6fg",
    "pycharm": {
     "name": "#%% md\n"
    }
   },
   "source": [
    "Due to the sequential charasteristics of RNNs, they can be used for time series prediction task. A time series is a series of data points indexed in time order. One example of time series is stock prices at regular intervals of time (hourly, daily, etc.). There have been many attempts to forecast stocks market, some belive predicting the market is impossible because of its total random behaviour, while some (mainly stocks technical analysts) belive not 100% accurate, but it is partly predictable, as they say \"history repeats itself\" (this phrase indicates that there might be some repetitive patterns in market's behaviour). \n",
    "\n",
    "In this practice, we are going to discover ourselves whether it is possible or not, whether we are going to be rich or broke :)  "
   ]
  },
  {
   "cell_type": "markdown",
   "metadata": {
    "colab_type": "text",
    "id": "tBLpUtW_5Q9K",
    "pycharm": {
     "name": "#%% md\n"
    }
   },
   "source": [
    "## Stocks Prediction Using LSTM"
   ]
  },
  {
   "attachments": {},
   "cell_type": "markdown",
   "metadata": {
    "colab_type": "text",
    "id": "EfO4ddWV5ZLS",
    "pycharm": {
     "name": "#%% md\n"
    }
   },
   "source": [
    "LSTMs can be used for modeling time series (such as stocks market) as they are capable of remembering past information. Stock price prediction is similar to any other machine learning problem where we are given a set of features and we have to predict a corresponding value, in this case our features are the closing prices of stocks in the past 60 days and we want to predict next closing price. We can use LSTM to model this 60 days sequence by a hidden state as we do in all other sequence modeling problems:\n",
    "\n",
    "<p align=\"center\"><img src=\"https://drive.google.com/thumbnail?id=1hml7fG9_GKDLH1068Wq_Jk-D09FtQk17&sz=w1000-h1000\" width=\"800\"/></p>\n",
    "\n",
    "</br>\n",
    "\n",
    "We are going to solve these two following problems:\n",
    "* 1 . Predicting the exact price at time $T_i$ given prices at times $T_{i-60}$, ..., $T_{i-1}$\n",
    "\n",
    "* 2 . A simplified version of previous problem, predicting the direction of price at time $T_i$ (whether it is increasing or decreasing) given prices at times $T_{i-60}$, ..., $T_{i-1}$\n",
    "\n",
    "\n",
    "So the first task is a regression and the second one is a classification problem.\n"
   ]
  },
  {
   "cell_type": "markdown",
   "metadata": {
    "colab_type": "text",
    "id": "JI0Ub0KuK0wG",
    "pycharm": {
     "name": "#%% md\n"
    }
   },
   "source": [
    "### 1. Predicting The Exact Price"
   ]
  },
  {
   "cell_type": "markdown",
   "metadata": {
    "colab_type": "text",
    "id": "LSNVvB-apMAr",
    "pycharm": {
     "name": "#%% md\n"
    }
   },
   "source": [
    "**DATA:**\n",
    "\n",
    "The data that we are going to use are from ***Yahoo Finance*** (a place to look up stock market data and company news). We can accsess historical market data from *Yahoo Finance* using python ***yfinance*** module. \n",
    "\n",
    "Let's install *yfinance* module first:"
   ]
  },
  {
   "cell_type": "code",
   "execution_count": 2,
   "metadata": {
    "colab": {},
    "colab_type": "code",
    "id": "_zYyq0SlbY_a",
    "pycharm": {
     "name": "#%%\n"
    }
   },
   "outputs": [],
   "source": [
    "from IPython.display import clear_output\n",
    "\n",
    "!pip install yfinance\n",
    "\n",
    "clear_output()"
   ]
  },
  {
   "cell_type": "markdown",
   "metadata": {
    "colab_type": "text",
    "id": "9wAwSxCbbWlt",
    "pycharm": {
     "name": "#%% md\n"
    }
   },
   "source": [
    "For training our algorithm, we will be using the Apple stock prices from 1st January 2014 to 1st January 2018. In order to evaluate the performance of the algorithm, we will be using the prices from 1st January 2018 to 1st January 2019. \n",
    "\n",
    "Let's get the data and visualise it:"
   ]
  },
  {
   "cell_type": "code",
   "execution_count": 3,
   "metadata": {
    "colab": {
     "base_uri": "https://localhost:8080/",
     "height": 281
    },
    "colab_type": "code",
    "id": "U2Q70Xcr3nNR",
    "outputId": "d6b68bfd-b47d-4aeb-8ac8-6d4647a3a58b",
    "pycharm": {
     "is_executing": true,
     "name": "#%%\n"
    }
   },
   "outputs": [
    {
     "data": {
      "image/png": "[encoded data removed]",
      "text/plain": [
       "<Figure size 432x288 with 1 Axes>"
      ]
     },
     "metadata": {},
     "output_type": "display_data"
    }
   ],
   "source": [
    "\n",
    "import matplotlib.pyplot as plt\n",
    "import yfinance as yf  \n",
    "\n",
    "train_data = yf.download('AAPL','2014-01-01','2018-01-01')\n",
    "test_data = yf.download('AAPL','2018-01-01','2019-01-01')\n",
    "plt.figure(facecolor='w')\n",
    "train_data.Close.plot()\n",
    "test_data.Close.plot()\n",
    "plt.legend ([\"Train\", \"Test\"])\n",
    "\n",
    "clear_output()\n",
    "plt.show()"
   ]
  },
  {
   "cell_type": "markdown",
   "metadata": {
    "colab_type": "text",
    "id": "AIIDgdQfcSK3",
    "pycharm": {
     "name": "#%% md\n"
    }
   },
   "source": [
    "As you can see our data is just a sequence of numbers ordered by time. \n",
    "\n",
    "In order to normalize our data we scale them between 0 and 1: "
   ]
  },
  {
   "cell_type": "code",
   "execution_count": 4,
   "metadata": {
    "colab": {
     "base_uri": "https://localhost:8080/",
     "height": 54
    },
    "colab_type": "code",
    "id": "8ge5thz254Kf",
    "outputId": "5e3d22e6-5386-4205-86ff-bc1c57400ee2",
    "pycharm": {
     "is_executing": true,
     "name": "#%%\n"
    }
   },
   "outputs": [
    {
     "name": "stdout",
     "output_type": "stream",
     "text": [
      "train_scaled.shape : (1007, 1)\n",
      "test_scaled.shape : (251, 1)\n"
     ]
    }
   ],
   "source": [
    "from sklearn.preprocessing import MinMaxScaler \n",
    "import numpy as np\n",
    "scaler = MinMaxScaler(feature_range = (0, 1)).fit(train_data.Close.values.reshape(-1, 1))\n",
    "\n",
    "train_scaled = scaler.transform(train_data.Close.values.reshape(-1, 1))\n",
    "test_scaled = scaler.transform(test_data.Close.values.reshape(-1, 1))  \n",
    "\n",
    "print (\"train_scaled.shape :\", train_scaled.shape)\n",
    "print (\"test_scaled.shape :\", test_scaled.shape)"
   ]
  },
  {
   "cell_type": "markdown",
   "metadata": {
    "colab_type": "text",
    "id": "_9M3_Ch_eRFx",
    "pycharm": {
     "name": "#%% md\n"
    }
   },
   "source": [
    "Now we create our input output pairs from our sequence:"
   ]
  },
  {
   "cell_type": "code",
   "execution_count": 5,
   "metadata": {
    "colab": {},
    "colab_type": "code",
    "id": "NOs8KBcj6mpG",
    "pycharm": {
     "name": "#%%\n"
    }
   },
   "outputs": [],
   "source": [
    "train_features_set = []  \n",
    "train_labels = []  \n",
    "for i in range(60, train_scaled.shape[0]):  \n",
    "    train_features_set.append(train_scaled[i-60:i, 0])\n",
    "    train_labels.append(train_scaled[i, 0])"
   ]
  },
  {
   "cell_type": "markdown",
   "metadata": {
    "colab_type": "text",
    "id": "zWmPH1aqfdzH",
    "pycharm": {
     "name": "#%% md\n"
    }
   },
   "source": [
    "We need to convert these lists to the numpy arrays before we can use them for training. Then in order to train LSTM on our data, we need to convert our data into the shape accepted by the LSTM. We need to convert our data into three-dimensional format. The first dimension is the number of records or rows in the dataset which is 1007 in our case. The second dimension is the number of time steps which is 60 while the last dimension is the number of indicators. Since we are only using one feature, i.e Closing price, the number of indicators will be one."
   ]
  },
  {
   "cell_type": "code",
   "execution_count": 6,
   "metadata": {
    "colab": {},
    "colab_type": "code",
    "id": "bVh8Igbrfw8L",
    "pycharm": {
     "name": "#%%\n"
    }
   },
   "outputs": [],
   "source": [
    "train_features_set, train_labels = np.array(train_features_set), np.array(train_labels)\n",
    "train_features_set = np.reshape(train_features_set, (train_features_set.shape[0], train_features_set.shape[1], 1))"
   ]
  },
  {
   "cell_type": "code",
   "execution_count": 7,
   "metadata": {},
   "outputs": [
    {
     "data": {
      "text/plain": [
       "(947,)"
      ]
     },
     "execution_count": 7,
     "metadata": {},
     "output_type": "execute_result"
    }
   ],
   "source": [
    "train_labels.shape"
   ]
  },
  {
   "cell_type": "markdown",
   "metadata": {
    "colab_type": "text",
    "id": "tI8HP9NqiYzv",
    "pycharm": {
     "name": "#%% md\n"
    }
   },
   "source": [
    "Now let's create and train a simple model, our model has a stack of 4 lstm layers and a single output layer: "
   ]
  },
  {
   "cell_type": "code",
   "execution_count": 8,
   "metadata": {
    "colab": {},
    "colab_type": "code",
    "id": "H0UHr-Ef8pHr",
    "pycharm": {
     "name": "#%%\n"
    }
   },
   "outputs": [
    {
     "name": "stdout",
     "output_type": "stream",
     "text": [
      "Epoch 1/100\n",
      "32/32 [==============================] - 14s 81ms/step - loss: 0.0346\n",
      "Epoch 2/100\n",
      "32/32 [==============================] - 3s 82ms/step - loss: 0.0067\n",
      "Epoch 3/100\n",
      "32/32 [==============================] - 2s 74ms/step - loss: 0.0058\n",
      "Epoch 4/100\n",
      "32/32 [==============================] - 2s 75ms/step - loss: 0.0059\n",
      "Epoch 5/100\n",
      "32/32 [==============================] - 2s 78ms/step - loss: 0.0051\n",
      "Epoch 6/100\n",
      "32/32 [==============================] - 2s 72ms/step - loss: 0.0048\n",
      "Epoch 7/100\n",
      "32/32 [==============================] - 2s 73ms/step - loss: 0.0052\n",
      "Epoch 8/100\n",
      "32/32 [==============================] - 2s 72ms/step - loss: 0.0045\n",
      "Epoch 9/100\n",
      "32/32 [==============================] - 2s 75ms/step - loss: 0.0046\n",
      "Epoch 10/100\n",
      "32/32 [==============================] - 2s 75ms/step - loss: 0.0048\n",
      "Epoch 11/100\n",
      "32/32 [==============================] - 2s 72ms/step - loss: 0.0041\n",
      "Epoch 12/100\n",
      "32/32 [==============================] - 3s 91ms/step - loss: 0.0055\n",
      "Epoch 13/100\n",
      "32/32 [==============================] - 3s 87ms/step - loss: 0.0052\n",
      "Epoch 14/100\n",
      "32/32 [==============================] - 3s 80ms/step - loss: 0.0037\n",
      "Epoch 15/100\n",
      "32/32 [==============================] - 2s 75ms/step - loss: 0.0045\n",
      "Epoch 16/100\n",
      "32/32 [==============================] - 2s 74ms/step - loss: 0.0039\n",
      "Epoch 17/100\n",
      "32/32 [==============================] - 2s 74ms/step - loss: 0.0033\n",
      "Epoch 18/100\n",
      "32/32 [==============================] - 2s 75ms/step - loss: 0.0034\n",
      "Epoch 19/100\n",
      "32/32 [==============================] - 2s 73ms/step - loss: 0.0035\n",
      "Epoch 20/100\n",
      "32/32 [==============================] - 2s 73ms/step - loss: 0.0034\n",
      "Epoch 21/100\n",
      "32/32 [==============================] - 2s 73ms/step - loss: 0.0039\n",
      "Epoch 22/100\n",
      "32/32 [==============================] - 2s 73ms/step - loss: 0.0041\n",
      "Epoch 23/100\n",
      "32/32 [==============================] - 2s 73ms/step - loss: 0.0029\n",
      "Epoch 24/100\n",
      "32/32 [==============================] - 3s 78ms/step - loss: 0.0029\n",
      "Epoch 25/100\n",
      "32/32 [==============================] - 2s 76ms/step - loss: 0.0028\n",
      "Epoch 26/100\n",
      "32/32 [==============================] - 2s 75ms/step - loss: 0.0028\n",
      "Epoch 27/100\n",
      "32/32 [==============================] - 3s 85ms/step - loss: 0.0029\n",
      "Epoch 28/100\n",
      "32/32 [==============================] - 3s 90ms/step - loss: 0.0030\n",
      "Epoch 29/100\n",
      "32/32 [==============================] - 3s 94ms/step - loss: 0.0028\n",
      "Epoch 30/100\n",
      "32/32 [==============================] - 3s 87ms/step - loss: 0.0030\n",
      "Epoch 31/100\n",
      "32/32 [==============================] - 3s 99ms/step - loss: 0.0031\n",
      "Epoch 32/100\n",
      "32/32 [==============================] - 2s 77ms/step - loss: 0.0026\n",
      "Epoch 33/100\n",
      "32/32 [==============================] - 3s 82ms/step - loss: 0.0030\n",
      "Epoch 34/100\n",
      "32/32 [==============================] - 2s 73ms/step - loss: 0.0026\n",
      "Epoch 35/100\n",
      "32/32 [==============================] - 3s 81ms/step - loss: 0.0023\n",
      "Epoch 36/100\n",
      "32/32 [==============================] - 2s 73ms/step - loss: 0.0027\n",
      "Epoch 37/100\n",
      "32/32 [==============================] - 3s 83ms/step - loss: 0.0028\n",
      "Epoch 38/100\n",
      "32/32 [==============================] - 3s 80ms/step - loss: 0.0026\n",
      "Epoch 39/100\n",
      "32/32 [==============================] - 3s 87ms/step - loss: 0.0024\n",
      "Epoch 40/100\n",
      "32/32 [==============================] - 3s 81ms/step - loss: 0.0026\n",
      "Epoch 41/100\n",
      "32/32 [==============================] - 3s 86ms/step - loss: 0.0023\n",
      "Epoch 42/100\n",
      "32/32 [==============================] - 3s 85ms/step - loss: 0.0024\n",
      "Epoch 43/100\n",
      "32/32 [==============================] - 3s 83ms/step - loss: 0.0022\n",
      "Epoch 44/100\n",
      "32/32 [==============================] - 3s 82ms/step - loss: 0.0021\n",
      "Epoch 45/100\n",
      "32/32 [==============================] - 3s 79ms/step - loss: 0.0025\n",
      "Epoch 46/100\n",
      "32/32 [==============================] - 3s 79ms/step - loss: 0.0022\n",
      "Epoch 47/100\n",
      "32/32 [==============================] - 3s 79ms/step - loss: 0.0021\n",
      "Epoch 48/100\n",
      "32/32 [==============================] - 2s 78ms/step - loss: 0.0020\n",
      "Epoch 49/100\n",
      "32/32 [==============================] - 3s 78ms/step - loss: 0.0020\n",
      "Epoch 50/100\n",
      "32/32 [==============================] - 3s 78ms/step - loss: 0.0022\n",
      "Epoch 51/100\n",
      "32/32 [==============================] - 3s 82ms/step - loss: 0.0020\n",
      "Epoch 52/100\n",
      "32/32 [==============================] - 3s 82ms/step - loss: 0.0022\n",
      "Epoch 53/100\n",
      "32/32 [==============================] - 2s 78ms/step - loss: 0.0022\n",
      "Epoch 54/100\n",
      "32/32 [==============================] - 2s 77ms/step - loss: 0.0022\n",
      "Epoch 55/100\n",
      "32/32 [==============================] - 3s 81ms/step - loss: 0.0018\n",
      "Epoch 56/100\n",
      "32/32 [==============================] - 3s 80ms/step - loss: 0.0020\n",
      "Epoch 57/100\n",
      "32/32 [==============================] - 3s 84ms/step - loss: 0.0022\n",
      "Epoch 58/100\n",
      "32/32 [==============================] - 3s 82ms/step - loss: 0.0023\n",
      "Epoch 59/100\n",
      "32/32 [==============================] - 3s 82ms/step - loss: 0.0022\n",
      "Epoch 60/100\n",
      "32/32 [==============================] - 3s 79ms/step - loss: 0.0018\n",
      "Epoch 61/100\n",
      "32/32 [==============================] - 3s 79ms/step - loss: 0.0020\n",
      "Epoch 62/100\n",
      "32/32 [==============================] - 2s 78ms/step - loss: 0.0017\n",
      "Epoch 63/100\n",
      "32/32 [==============================] - 3s 79ms/step - loss: 0.0018\n",
      "Epoch 64/100\n",
      "32/32 [==============================] - 3s 81ms/step - loss: 0.0017\n",
      "Epoch 65/100\n",
      "32/32 [==============================] - 3s 88ms/step - loss: 0.0018\n",
      "Epoch 66/100\n",
      "32/32 [==============================] - 2s 76ms/step - loss: 0.0023\n",
      "Epoch 67/100\n",
      "32/32 [==============================] - 3s 79ms/step - loss: 0.0019\n",
      "Epoch 68/100\n",
      "32/32 [==============================] - 3s 82ms/step - loss: 0.0019\n",
      "Epoch 69/100\n",
      "32/32 [==============================] - 3s 81ms/step - loss: 0.0017\n",
      "Epoch 70/100\n",
      "32/32 [==============================] - 3s 81ms/step - loss: 0.0019\n",
      "Epoch 71/100\n",
      "32/32 [==============================] - 3s 85ms/step - loss: 0.0017\n",
      "Epoch 72/100\n",
      "32/32 [==============================] - 3s 82ms/step - loss: 0.0015\n",
      "Epoch 73/100\n",
      "32/32 [==============================] - 3s 82ms/step - loss: 0.0018\n",
      "Epoch 74/100\n",
      "32/32 [==============================] - 2s 76ms/step - loss: 0.0018\n",
      "Epoch 75/100\n",
      "32/32 [==============================] - 3s 78ms/step - loss: 0.0017\n",
      "Epoch 76/100\n",
      "32/32 [==============================] - 3s 79ms/step - loss: 0.0015\n",
      "Epoch 77/100\n",
      "32/32 [==============================] - 3s 81ms/step - loss: 0.0016\n",
      "Epoch 78/100\n",
      "32/32 [==============================] - 3s 80ms/step - loss: 0.0016\n",
      "Epoch 79/100\n",
      "32/32 [==============================] - 2s 73ms/step - loss: 0.0016\n",
      "Epoch 80/100\n",
      "32/32 [==============================] - 3s 79ms/step - loss: 0.0016\n",
      "Epoch 81/100\n",
      "32/32 [==============================] - 3s 84ms/step - loss: 0.0016\n",
      "Epoch 82/100\n",
      "32/32 [==============================] - 3s 81ms/step - loss: 0.0016\n",
      "Epoch 83/100\n",
      "32/32 [==============================] - 3s 82ms/step - loss: 0.0017\n",
      "Epoch 84/100\n",
      "32/32 [==============================] - 3s 88ms/step - loss: 0.0013\n",
      "Epoch 85/100\n",
      "32/32 [==============================] - 3s 91ms/step - loss: 0.0014\n",
      "Epoch 86/100\n",
      "32/32 [==============================] - 3s 85ms/step - loss: 0.0014\n",
      "Epoch 87/100\n",
      "32/32 [==============================] - 3s 80ms/step - loss: 0.0015\n",
      "Epoch 88/100\n",
      "32/32 [==============================] - 3s 79ms/step - loss: 0.0014\n",
      "Epoch 89/100\n",
      "32/32 [==============================] - 2s 77ms/step - loss: 0.0015\n",
      "Epoch 90/100\n",
      "32/32 [==============================] - 3s 81ms/step - loss: 0.0016\n",
      "Epoch 91/100\n",
      "32/32 [==============================] - 3s 80ms/step - loss: 0.0014\n",
      "Epoch 92/100\n",
      "32/32 [==============================] - 3s 79ms/step - loss: 0.0015\n",
      "Epoch 93/100\n",
      "32/32 [==============================] - 3s 82ms/step - loss: 0.0017\n",
      "Epoch 94/100\n",
      "32/32 [==============================] - 2s 78ms/step - loss: 0.0013\n",
      "Epoch 95/100\n",
      "32/32 [==============================] - 3s 79ms/step - loss: 0.0015\n",
      "Epoch 96/100\n",
      "32/32 [==============================] - 3s 87ms/step - loss: 0.0014\n",
      "Epoch 97/100\n",
      "32/32 [==============================] - 3s 81ms/step - loss: 0.0013\n",
      "Epoch 98/100\n",
      "32/32 [==============================] - 3s 79ms/step - loss: 0.0013\n",
      "Epoch 99/100\n",
      "32/32 [==============================] - 3s 82ms/step - loss: 0.0014\n",
      "Epoch 100/100\n",
      "32/32 [==============================] - 3s 79ms/step - loss: 0.0013\n"
     ]
    },
    {
     "data": {
      "text/plain": [
       "<keras.callbacks.History at 0x223376cbfa0>"
      ]
     },
     "execution_count": 8,
     "metadata": {},
     "output_type": "execute_result"
    }
   ],
   "source": [
    "from keras.models import Sequential  \n",
    "from keras.layers import Dense  \n",
    "from keras.layers import LSTM  \n",
    "from keras.layers import Dropout  \n",
    "\n",
    "model = Sequential()\n",
    "model.add(LSTM(units=50, return_sequences=True, input_shape=(train_features_set.shape[1], 1)))\n",
    "model.add(Dropout(0.2))\n",
    "\n",
    "model.add(LSTM(units=50, return_sequences=True))  \n",
    "model.add(Dropout(0.2))\n",
    "\n",
    "model.add(LSTM(units=50, return_sequences=True))  \n",
    "model.add(Dropout(0.2))\n",
    "\n",
    "model.add(LSTM(units=50))  \n",
    "model.add(Dropout(0.2))\n",
    "\n",
    "# we have a single output so this layer has 1 unit\n",
    "model.add(Dense(units = 1))\n",
    "\n",
    "model.compile(optimizer = 'adam', loss = 'mean_squared_error')\n",
    "\n",
    "model.fit(train_features_set, train_labels, epochs = 100, batch_size = 30)\n",
    "\n",
    "# clear_output()"
   ]
  },
  {
   "cell_type": "markdown",
   "metadata": {
    "colab_type": "text",
    "id": "6n8LuRDDqKkL",
    "pycharm": {
     "name": "#%% md\n"
    }
   },
   "source": [
    "Now we create our test features set similar to what we did with our training set:"
   ]
  },
  {
   "cell_type": "code",
   "execution_count": 9,
   "metadata": {
    "colab": {},
    "colab_type": "code",
    "id": "8_Z0-AoCqZwV",
    "pycharm": {
     "name": "#%%\n"
    }
   },
   "outputs": [],
   "source": [
    "test_scaled = scaler.transform(test_data.Close.values.reshape(-1, 1))  \n",
    "\n",
    "test_features_set = []  \n",
    "for i in range(60, test_scaled.shape[0]):  \n",
    "    test_features_set.append(test_scaled[i-60:i, 0])\n",
    "    \n",
    "test_features_set = np.array(test_features_set)  \n",
    "test_features_set = np.reshape(test_features_set, (test_features_set.shape[0], test_features_set.shape[1], 1))"
   ]
  },
  {
   "cell_type": "markdown",
   "metadata": {
    "colab_type": "text",
    "id": "19NNvTHHqsdH",
    "pycharm": {
     "name": "#%% md\n"
    }
   },
   "source": [
    "And finaly let's see the results:"
   ]
  },
  {
   "cell_type": "code",
   "execution_count": 10,
   "metadata": {
    "colab": {
     "base_uri": "https://localhost:8080/",
     "height": 281
    },
    "colab_type": "code",
    "id": "nU6kKlck-UAL",
    "outputId": "c8ae8f5f-7351-450b-acf8-4802f5d48076",
    "pycharm": {
     "is_executing": true,
     "name": "#%%\n"
    }
   },
   "outputs": [
    {
     "name": "stdout",
     "output_type": "stream",
     "text": [
      "6/6 [==============================] - 2s 31ms/step\n"
     ]
    },
    {
     "data": {
      "image/png": "[encoded data removed]",
      "text/plain": [
       "<Figure size 432x288 with 1 Axes>"
      ]
     },
     "metadata": {
      "needs_background": "light"
     },
     "output_type": "display_data"
    }
   ],
   "source": [
    "predictions = model.predict(test_features_set)\n",
    "predictions = scaler.inverse_transform(predictions)  \n",
    "  \n",
    "plt.plot(test_data.Close.values[60:], color='blue', label='Actual Apple Stock Price')  \n",
    "plt.plot(predictions , color='red', label='Predicted Apple Stock Price')  \n",
    "plt.title('Apple Stock Price Prediction on Test Set')    \n",
    "plt.ylabel('Apple Stock Price')  \n",
    "plt.legend()  \n",
    "plt.show()"
   ]
  },
  {
   "attachments": {},
   "cell_type": "markdown",
   "metadata": {
    "colab_type": "text",
    "id": "stxlKK1utSvU",
    "pycharm": {
     "name": "#%% md\n"
    }
   },
   "source": [
    "$\\color{red}{\\text{At first, I think that there are some issues with the general idea: for example, the min-max scalar might not be a good idea for price forecasting }}$\n",
    "$\\color{red}{\\text{because generally there is no exact maximum price while the trend of the price is usually increasing. }}$\n",
    "$\\color{red}{\\text{Secondly, there are many other factors affecting the prices such as the price of other stocks of some other economical indexes such as GDP, }}$\n",
    "$\\color{red}{\\text{so it might be a good idea to use a multi input network. }}$"
   ]
  },
  {
   "cell_type": "markdown",
   "metadata": {
    "colab_type": "text",
    "id": "zzlrh1NHtdnS",
    "pycharm": {
     "name": "#%% md\n"
    }
   },
   "source": [
    "### 2. Predicting The Direction"
   ]
  },
  {
   "cell_type": "markdown",
   "metadata": {
    "colab_type": "text",
    "id": "VHLBKZxXtpOP",
    "pycharm": {
     "name": "#%% md\n"
    }
   },
   "source": [
    "Previous model can be evaluated  just visually. We can evaluate a classification task using its special measures (such as f-score or accuracy) much better than a regression task. So in order to finaly decide whether the stocks market prediction is practical or not, we define this second task.\n",
    "\n",
    "Implement a model similar to previous one, this time the task is to predict whether the price is going to increase or decrease (output will be either 1 or 0 respectively) at time $T_i$ given prices at times $T_{i-60}$, ..., $T_{i-1}$ :"
   ]
  },
  {
   "attachments": {},
   "cell_type": "markdown",
   "metadata": {},
   "source": [
    "#### Data preprocessing"
   ]
  },
  {
   "cell_type": "code",
   "execution_count": 12,
   "metadata": {},
   "outputs": [],
   "source": [
    "train_data['increase']=1\n",
    "for i in range(len(train_data)):\n",
    "    if i>0:\n",
    "        if train_data['Close'][i]>train_data['Close'][i-1]:\n",
    "            train_data.iloc[i,-1]=1\n",
    "        else:\n",
    "            train_data.iloc[i,-1]=0\n",
    "\n",
    "test_data['increase']=1\n",
    "for i in range(len(test_data)):\n",
    "    if i>0:\n",
    "        if test_data['Close'][i]>test_data['Close'][i-1]:\n",
    "            test_data.iloc[i,-1]=1\n",
    "        else:\n",
    "            test_data.iloc[i,-1]=0"
   ]
  },
  {
   "cell_type": "markdown",
   "metadata": {},
   "source": [
    "Adding a new binary term indicating whether the price is increasing or not with respect to the previous step"
   ]
  },
  {
   "cell_type": "code",
   "execution_count": 13,
   "metadata": {},
   "outputs": [
    {
     "data": {
      "text/html": [
       "<div>\n",
       "<style scoped>\n",
       "    .dataframe tbody tr th:only-of-type {\n",
       "        vertical-align: middle;\n",
       "    }\n",
       "\n",
       "    .dataframe tbody tr th {\n",
       "        vertical-align: top;\n",
       "    }\n",
       "\n",
       "    .dataframe thead th {\n",
       "        text-align: right;\n",
       "    }\n",
       "</style>\n",
       "<table border=\"1\" class=\"dataframe\">\n",
       "  <thead>\n",
       "    <tr style=\"text-align: right;\">\n",
       "      <th></th>\n",
       "      <th>Open</th>\n",
       "      <th>High</th>\n",
       "      <th>Low</th>\n",
       "      <th>Close</th>\n",
       "      <th>Adj Close</th>\n",
       "      <th>Volume</th>\n",
       "      <th>increase</th>\n",
       "    </tr>\n",
       "    <tr>\n",
       "      <th>Date</th>\n",
       "      <th></th>\n",
       "      <th></th>\n",
       "      <th></th>\n",
       "      <th></th>\n",
       "      <th></th>\n",
       "      <th></th>\n",
       "      <th></th>\n",
       "    </tr>\n",
       "  </thead>\n",
       "  <tbody>\n",
       "    <tr>\n",
       "      <th>2018-01-02</th>\n",
       "      <td>42.540001</td>\n",
       "      <td>43.075001</td>\n",
       "      <td>42.314999</td>\n",
       "      <td>43.064999</td>\n",
       "      <td>40.950497</td>\n",
       "      <td>102223600</td>\n",
       "      <td>1</td>\n",
       "    </tr>\n",
       "    <tr>\n",
       "      <th>2018-01-03</th>\n",
       "      <td>43.132500</td>\n",
       "      <td>43.637501</td>\n",
       "      <td>42.990002</td>\n",
       "      <td>43.057499</td>\n",
       "      <td>40.943356</td>\n",
       "      <td>118071600</td>\n",
       "      <td>0</td>\n",
       "    </tr>\n",
       "    <tr>\n",
       "      <th>2018-01-04</th>\n",
       "      <td>43.134998</td>\n",
       "      <td>43.367500</td>\n",
       "      <td>43.020000</td>\n",
       "      <td>43.257500</td>\n",
       "      <td>41.133545</td>\n",
       "      <td>89738400</td>\n",
       "      <td>1</td>\n",
       "    </tr>\n",
       "  </tbody>\n",
       "</table>\n",
       "</div>"
      ],
      "text/plain": [
       "                 Open       High        Low      Close  Adj Close     Volume  \\\n",
       "Date                                                                           \n",
       "2018-01-02  42.540001  43.075001  42.314999  43.064999  40.950497  102223600   \n",
       "2018-01-03  43.132500  43.637501  42.990002  43.057499  40.943356  118071600   \n",
       "2018-01-04  43.134998  43.367500  43.020000  43.257500  41.133545   89738400   \n",
       "\n",
       "            increase  \n",
       "Date                  \n",
       "2018-01-02         1  \n",
       "2018-01-03         0  \n",
       "2018-01-04         1  "
      ]
     },
     "execution_count": 13,
     "metadata": {},
     "output_type": "execute_result"
    }
   ],
   "source": [
    "train_data.head(3)\n",
    "test_data.head(3)"
   ]
  },
  {
   "cell_type": "markdown",
   "metadata": {},
   "source": [
    "preparing data for learning process:"
   ]
  },
  {
   "cell_type": "code",
   "execution_count": 14,
   "metadata": {},
   "outputs": [],
   "source": [
    "train2_labels2=train_data.increase.values\n",
    "train_labels2 = []  \n",
    "for i in range(60, train_scaled.shape[0]):  \n",
    "    train_labels2.append(train2_labels2[i])\n",
    "train_labels2=np.array(train_labels2)"
   ]
  },
  {
   "cell_type": "markdown",
   "metadata": {},
   "source": [
    "Changing the loss function to binary BinaryCrossentropy"
   ]
  },
  {
   "cell_type": "code",
   "execution_count": 15,
   "metadata": {},
   "outputs": [
    {
     "name": "stdout",
     "output_type": "stream",
     "text": [
      "Epoch 1/100\n",
      "32/32 [==============================] - 12s 92ms/step - loss: 1.0232\n",
      "Epoch 2/100\n",
      "32/32 [==============================] - 3s 82ms/step - loss: 0.7561\n",
      "Epoch 3/100\n",
      "32/32 [==============================] - 2s 77ms/step - loss: 0.7458\n",
      "Epoch 4/100\n",
      "32/32 [==============================] - 2s 77ms/step - loss: 0.7340\n",
      "Epoch 5/100\n",
      "32/32 [==============================] - 3s 84ms/step - loss: 0.7302\n",
      "Epoch 6/100\n",
      "32/32 [==============================] - 3s 84ms/step - loss: 0.7261\n",
      "Epoch 7/100\n",
      "32/32 [==============================] - 3s 80ms/step - loss: 0.7074\n",
      "Epoch 8/100\n",
      "32/32 [==============================] - 3s 81ms/step - loss: 0.7143\n",
      "Epoch 9/100\n",
      "32/32 [==============================] - 3s 83ms/step - loss: 0.7065\n",
      "Epoch 10/100\n",
      "32/32 [==============================] - 3s 89ms/step - loss: 0.6984\n",
      "Epoch 11/100\n",
      "32/32 [==============================] - 3s 88ms/step - loss: 0.7055\n",
      "Epoch 12/100\n",
      "32/32 [==============================] - 2s 77ms/step - loss: 0.7002\n",
      "Epoch 13/100\n",
      "32/32 [==============================] - 2s 75ms/step - loss: 0.6985\n",
      "Epoch 14/100\n",
      "32/32 [==============================] - 3s 79ms/step - loss: 0.7033\n",
      "Epoch 15/100\n",
      "32/32 [==============================] - 2s 76ms/step - loss: 0.6980\n",
      "Epoch 16/100\n",
      "32/32 [==============================] - 3s 84ms/step - loss: 0.6989\n",
      "Epoch 17/100\n",
      "32/32 [==============================] - 3s 86ms/step - loss: 0.6993\n",
      "Epoch 18/100\n",
      "32/32 [==============================] - 3s 85ms/step - loss: 0.7066\n",
      "Epoch 19/100\n",
      "32/32 [==============================] - 3s 79ms/step - loss: 0.7027\n",
      "Epoch 20/100\n",
      "32/32 [==============================] - 3s 90ms/step - loss: 0.7065\n",
      "Epoch 21/100\n",
      "32/32 [==============================] - 3s 94ms/step - loss: 0.6997\n",
      "Epoch 22/100\n",
      "32/32 [==============================] - 3s 107ms/step - loss: 0.6973\n",
      "Epoch 23/100\n",
      "32/32 [==============================] - 2s 77ms/step - loss: 0.6979\n",
      "Epoch 24/100\n",
      "32/32 [==============================] - 3s 94ms/step - loss: 0.6975\n",
      "Epoch 25/100\n",
      "32/32 [==============================] - 3s 101ms/step - loss: 0.6958\n",
      "Epoch 26/100\n",
      "32/32 [==============================] - 3s 103ms/step - loss: 0.6982\n",
      "Epoch 27/100\n",
      "32/32 [==============================] - 3s 101ms/step - loss: 0.7035\n",
      "Epoch 28/100\n",
      "32/32 [==============================] - 3s 103ms/step - loss: 0.6939\n",
      "Epoch 29/100\n",
      "32/32 [==============================] - 3s 80ms/step - loss: 0.6988\n",
      "Epoch 30/100\n",
      "32/32 [==============================] - 3s 83ms/step - loss: 0.7021\n",
      "Epoch 31/100\n",
      "32/32 [==============================] - 3s 81ms/step - loss: 0.6982\n",
      "Epoch 32/100\n",
      "32/32 [==============================] - 3s 87ms/step - loss: 0.7014\n",
      "Epoch 33/100\n",
      "32/32 [==============================] - 3s 79ms/step - loss: 0.6961\n",
      "Epoch 34/100\n",
      "32/32 [==============================] - 3s 83ms/step - loss: 0.6975\n",
      "Epoch 35/100\n",
      "32/32 [==============================] - 3s 102ms/step - loss: 0.6941\n",
      "Epoch 36/100\n",
      "32/32 [==============================] - 3s 86ms/step - loss: 0.7015\n",
      "Epoch 37/100\n",
      "32/32 [==============================] - 3s 96ms/step - loss: 0.7051\n",
      "Epoch 38/100\n",
      "32/32 [==============================] - 3s 89ms/step - loss: 0.7016\n",
      "Epoch 39/100\n",
      "32/32 [==============================] - 2s 78ms/step - loss: 0.7025\n",
      "Epoch 40/100\n",
      "32/32 [==============================] - 2s 76ms/step - loss: 0.6976\n",
      "Epoch 41/100\n",
      "32/32 [==============================] - 3s 80ms/step - loss: 0.6970\n",
      "Epoch 42/100\n",
      "32/32 [==============================] - 3s 85ms/step - loss: 0.6986\n",
      "Epoch 43/100\n",
      "32/32 [==============================] - 3s 89ms/step - loss: 0.6944\n",
      "Epoch 44/100\n",
      "32/32 [==============================] - 3s 78ms/step - loss: 0.6971\n",
      "Epoch 45/100\n",
      "32/32 [==============================] - 3s 80ms/step - loss: 0.6975\n",
      "Epoch 46/100\n",
      "32/32 [==============================] - 2s 78ms/step - loss: 0.7038\n",
      "Epoch 47/100\n",
      "32/32 [==============================] - 3s 80ms/step - loss: 0.6936\n",
      "Epoch 48/100\n",
      "32/32 [==============================] - 3s 80ms/step - loss: 0.6980\n",
      "Epoch 49/100\n",
      "32/32 [==============================] - 3s 79ms/step - loss: 0.6997\n",
      "Epoch 50/100\n",
      "32/32 [==============================] - 2s 75ms/step - loss: 0.6954\n",
      "Epoch 51/100\n",
      "32/32 [==============================] - 2s 77ms/step - loss: 0.6974\n",
      "Epoch 52/100\n",
      "32/32 [==============================] - 2s 77ms/step - loss: 0.6986\n",
      "Epoch 53/100\n",
      "32/32 [==============================] - 2s 77ms/step - loss: 0.6980\n",
      "Epoch 54/100\n",
      "32/32 [==============================] - 2s 77ms/step - loss: 0.6976\n",
      "Epoch 55/100\n",
      "32/32 [==============================] - 3s 90ms/step - loss: 0.7004\n",
      "Epoch 56/100\n",
      "32/32 [==============================] - 3s 86ms/step - loss: 0.6994\n",
      "Epoch 57/100\n",
      "32/32 [==============================] - 3s 94ms/step - loss: 0.6993\n",
      "Epoch 58/100\n",
      "32/32 [==============================] - 3s 81ms/step - loss: 0.7004\n",
      "Epoch 59/100\n",
      "32/32 [==============================] - 3s 82ms/step - loss: 0.6947\n",
      "Epoch 60/100\n",
      "32/32 [==============================] - 2s 76ms/step - loss: 0.6933\n",
      "Epoch 61/100\n",
      "32/32 [==============================] - 3s 81ms/step - loss: 0.7000\n",
      "Epoch 62/100\n",
      "32/32 [==============================] - 2s 78ms/step - loss: 0.6937\n",
      "Epoch 63/100\n",
      "32/32 [==============================] - 3s 80ms/step - loss: 0.6944\n",
      "Epoch 64/100\n",
      "32/32 [==============================] - 2s 78ms/step - loss: 0.7028\n",
      "Epoch 65/100\n",
      "32/32 [==============================] - 2s 78ms/step - loss: 0.7024\n",
      "Epoch 66/100\n",
      "32/32 [==============================] - 2s 76ms/step - loss: 0.7024\n",
      "Epoch 67/100\n",
      "32/32 [==============================] - 3s 82ms/step - loss: 0.6950\n",
      "Epoch 68/100\n",
      "32/32 [==============================] - 2s 75ms/step - loss: 0.6971\n",
      "Epoch 69/100\n",
      "32/32 [==============================] - 3s 81ms/step - loss: 0.6943\n",
      "Epoch 70/100\n",
      "32/32 [==============================] - 2s 75ms/step - loss: 0.6984\n",
      "Epoch 71/100\n",
      "32/32 [==============================] - 3s 84ms/step - loss: 0.6963\n",
      "Epoch 72/100\n",
      "32/32 [==============================] - 3s 79ms/step - loss: 0.6978\n",
      "Epoch 73/100\n",
      "32/32 [==============================] - 3s 78ms/step - loss: 0.6921\n",
      "Epoch 74/100\n",
      "32/32 [==============================] - 2s 75ms/step - loss: 0.6934\n",
      "Epoch 75/100\n",
      "32/32 [==============================] - 3s 81ms/step - loss: 0.6983\n",
      "Epoch 76/100\n",
      "32/32 [==============================] - 2s 78ms/step - loss: 0.6952\n",
      "Epoch 77/100\n",
      "32/32 [==============================] - 2s 78ms/step - loss: 0.6961\n",
      "Epoch 78/100\n",
      "32/32 [==============================] - 3s 81ms/step - loss: 0.7067\n",
      "Epoch 79/100\n",
      "32/32 [==============================] - 3s 80ms/step - loss: 0.7108\n",
      "Epoch 80/100\n",
      "32/32 [==============================] - 3s 79ms/step - loss: 0.6945\n",
      "Epoch 81/100\n",
      "32/32 [==============================] - 2s 78ms/step - loss: 0.6923\n",
      "Epoch 82/100\n",
      "32/32 [==============================] - 3s 79ms/step - loss: 0.6962\n",
      "Epoch 83/100\n",
      "32/32 [==============================] - 3s 79ms/step - loss: 0.6976\n",
      "Epoch 84/100\n",
      "32/32 [==============================] - 3s 81ms/step - loss: 0.6978\n",
      "Epoch 85/100\n",
      "32/32 [==============================] - 3s 79ms/step - loss: 0.6947\n",
      "Epoch 86/100\n",
      "32/32 [==============================] - 3s 85ms/step - loss: 0.6948\n",
      "Epoch 87/100\n",
      "32/32 [==============================] - 3s 100ms/step - loss: 0.6956\n",
      "Epoch 88/100\n",
      "32/32 [==============================] - 3s 100ms/step - loss: 0.6981\n",
      "Epoch 89/100\n",
      "32/32 [==============================] - 3s 82ms/step - loss: 0.6984\n",
      "Epoch 90/100\n",
      "32/32 [==============================] - 3s 80ms/step - loss: 0.7016\n",
      "Epoch 91/100\n",
      "32/32 [==============================] - 2s 78ms/step - loss: 0.6996\n",
      "Epoch 92/100\n",
      "32/32 [==============================] - 3s 81ms/step - loss: 0.7039\n",
      "Epoch 93/100\n",
      "32/32 [==============================] - 3s 88ms/step - loss: 0.6976\n",
      "Epoch 94/100\n",
      "32/32 [==============================] - 3s 95ms/step - loss: 0.6967\n",
      "Epoch 95/100\n",
      "32/32 [==============================] - 3s 107ms/step - loss: 0.6977\n",
      "Epoch 96/100\n",
      "32/32 [==============================] - 3s 101ms/step - loss: 0.6952\n",
      "Epoch 97/100\n",
      "32/32 [==============================] - 3s 108ms/step - loss: 0.7007\n",
      "Epoch 98/100\n",
      "32/32 [==============================] - 4s 116ms/step - loss: 0.6957\n",
      "Epoch 99/100\n",
      "32/32 [==============================] - 4s 114ms/step - loss: 0.7004\n",
      "Epoch 100/100\n",
      "32/32 [==============================] - 4s 110ms/step - loss: 0.6972\n"
     ]
    },
    {
     "data": {
      "text/plain": [
       "<keras.callbacks.History at 0x223461a3f40>"
      ]
     },
     "execution_count": 15,
     "metadata": {},
     "output_type": "execute_result"
    }
   ],
   "source": [
    "model2 = Sequential()\n",
    "model2.add(LSTM(units=50, return_sequences=True, input_shape=(train_features_set.shape[1], 1)))\n",
    "model2.add(Dropout(0.2))\n",
    "\n",
    "model2.add(LSTM(units=50, return_sequences=True))  \n",
    "model2.add(Dropout(0.2))\n",
    "\n",
    "model2.add(LSTM(units=50, return_sequences=True))  \n",
    "model2.add(Dropout(0.2))\n",
    "\n",
    "model2.add(LSTM(units=50))  \n",
    "model2.add(Dropout(0.2))\n",
    "\n",
    "# we have a single output so this layer has 1 unit\n",
    "model2.add(Dense(units = 1))\n",
    "#Changing the loss function to binary BinaryCrossentropy\n",
    "model2.compile(optimizer = 'adam', loss = 'BinaryCrossentropy')\n",
    "\n",
    "model2.fit(train_features_set, train_labels2, epochs = 100, batch_size = 30)"
   ]
  },
  {
   "cell_type": "markdown",
   "metadata": {
    "colab_type": "text",
    "id": "FhvzyKn_ucd0",
    "pycharm": {
     "name": "#%% md\n"
    }
   },
   "source": [
    "Evaluate your trained model using the test set and report accuracy and f1-score your model archived: "
   ]
  },
  {
   "cell_type": "markdown",
   "metadata": {},
   "source": [
    "prediction phase:"
   ]
  },
  {
   "cell_type": "code",
   "execution_count": 16,
   "metadata": {},
   "outputs": [],
   "source": [
    "test2_labels2=test_data.increase.values\n",
    "test_labels2 = []  \n",
    "for i in range(60, test_scaled.shape[0]):  \n",
    "    test_labels2.append(test2_labels2[i])\n",
    "test_labels2=np.array(test_labels2)"
   ]
  },
  {
   "cell_type": "code",
   "execution_count": 17,
   "metadata": {},
   "outputs": [
    {
     "name": "stdout",
     "output_type": "stream",
     "text": [
      "6/6 [==============================] - 2s 30ms/step\n"
     ]
    }
   ],
   "source": [
    "predictions2 = model2.predict(test_features_set)"
   ]
  },
  {
   "attachments": {},
   "cell_type": "markdown",
   "metadata": {},
   "source": [
    "Creating a thershold of 0.5 to split the 'increasing' from 'decreasing' predictions"
   ]
  },
  {
   "cell_type": "code",
   "execution_count": 20,
   "metadata": {},
   "outputs": [],
   "source": [
    "pred=[]\n",
    "for i in predictions2:\n",
    "    if i>0.5:\n",
    "        j=1\n",
    "    else:\n",
    "        j=0\n",
    "    pred.append(j)\n",
    "pred=np.array(pred)"
   ]
  },
  {
   "cell_type": "code",
   "execution_count": 96,
   "metadata": {},
   "outputs": [
    {
     "data": {
      "text/plain": [
       "(191,)"
      ]
     },
     "execution_count": 96,
     "metadata": {},
     "output_type": "execute_result"
    }
   ],
   "source": [
    "pred.shape"
   ]
  },
  {
   "cell_type": "code",
   "execution_count": 28,
   "metadata": {},
   "outputs": [
    {
     "data": {
      "text/plain": [
       "array([[  0,  89],\n",
       "       [  0, 102]], dtype=int64)"
      ]
     },
     "execution_count": 28,
     "metadata": {},
     "output_type": "execute_result"
    }
   ],
   "source": [
    "from sklearn.metrics import confusion_matrix\n",
    "confusion_matrix(test_labels2, pred)"
   ]
  },
  {
   "cell_type": "markdown",
   "metadata": {},
   "source": [
    "### f1 Score"
   ]
  },
  {
   "cell_type": "code",
   "execution_count": 27,
   "metadata": {},
   "outputs": [
    {
     "data": {
      "text/plain": [
       "0.6962457337883959"
      ]
     },
     "execution_count": 27,
     "metadata": {},
     "output_type": "execute_result"
    }
   ],
   "source": [
    "from sklearn.metrics import f1_score\n",
    "f1_score(test_labels2, pred)"
   ]
  },
  {
   "cell_type": "markdown",
   "metadata": {
    "colab_type": "text",
    "id": "DaFxn4MR_4-4",
    "pycharm": {
     "name": "#%% md\n"
    }
   },
   "source": [
    "Do not worry if your results are not as promising as before :))\n",
    "* Comparing new results with previuos ones, why do you think this happens? Doesn't this task supposed to be an easier version of the previous one (if you are able to predict the actual price, you are already able to predict the direction of price trend)? Explain your toughts:\n"
   ]
  },
  {
   "attachments": {},
   "cell_type": "markdown",
   "metadata": {
    "colab_type": "text",
    "id": "byIh3cwmBLt9",
    "pycharm": {
     "name": "#%% md\n"
    }
   },
   "source": [
    "$\\color{red}{\\text{The stocks price time series has a myriad of oscillations and in the case of predicting the direction of the trend our model is highly sensitive to these oscillations (a small oscillation might cause a set of meaningless 0 or 1 while in the previous case our model is supposed to be near the main trend which leads to a less sensitive case to the oscillations)}}$"
   ]
  },
  {
   "cell_type": "markdown",
   "metadata": {
    "colab_type": "text",
    "id": "v-ekiL12B6th",
    "pycharm": {
     "name": "#%% md\n"
    }
   },
   "source": [
    "* Intuitively explain what kind of properties do you think a time series need to have in order to be predictable? "
   ]
  },
  {
   "attachments": {},
   "cell_type": "markdown",
   "metadata": {
    "colab_type": "text",
    "id": "uAtpWmGFEIG4",
    "pycharm": {
     "name": "#%% md\n"
    }
   },
   "source": [
    "$\\color{red}{\\text{Any learnable predictive model consists of a set of mathematical equations in order to find the underlying relationship between the inputs and the target values}}$\n",
    "$\\color{red}{\\text{To find highly nonlinear relationships consequently, more comprehensive databases are required}}$\n",
    "$\\color{red}{\\text{Moreover, time series with fewer oscillations and more interpretable relations for the predictive machine (for example linear relations for regression model) }}$\n",
    "$\\color{red}{\\text{will lead to more promising predictions}}$\n",
    "$\\color{red}{\\text{At last, a time series with repeated patterns is favorable for an RNN model since it carrying information from the past to predict the future}}$\n"
   ]
  }
 ],
 "metadata": {
  "accelerator": "GPU",
  "colab": {
   "collapsed_sections": [],
   "name": "assignment_05.ipynb",
   "provenance": [],
   "toc_visible": true,
   "version": "0.3.2"
  },
  "kernelspec": {
   "display_name": "Python 3.9.9 64-bit",
   "language": "python",
   "name": "python3"
  },
  "language_info": {
   "codemirror_mode": {
    "name": "ipython",
    "version": 3
   },
   "file_extension": ".py",
   "mimetype": "text/x-python",
   "name": "python",
   "nbconvert_exporter": "python",
   "pygments_lexer": "ipython3",
   "version": "3.9.9 (tags/v3.9.9:ccb0e6a, Nov 15 2021, 18:08:50) [MSC v.1929 64 bit (AMD64)]"
  },
  "vscode": {
   "interpreter": {
    "hash": "7ab1b3b9c0c9f281d6bc953a53ef072fab980f11978a31dd5e3f47f782640e38"
   }
  }
 },
 "nbformat": 4,
 "nbformat_minor": 0
}
